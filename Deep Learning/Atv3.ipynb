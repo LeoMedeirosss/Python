{
 "cells": [
  {
   "cell_type": "code",
   "execution_count": null,
   "metadata": {},
   "outputs": [],
   "source": [
    "#Imports\n",
    "import numpy as np\n",
    "import tensorflow as tf\n",
    "from tensorflow import keras\n",
    "from tensorflow.keras.models import Sequential\n",
    "from tensorflow.keras.layers import Dense, Flatten\n",
    "from tensorflow.keras.optimizers import Adam\n",
    "from tensorflow.keras.utils import to_categorical\n",
    "from sklearn.model_selection import ParameterGrid"
   ]
  },
  {
   "cell_type": "code",
   "execution_count": null,
   "metadata": {},
   "outputs": [],
   "source": [
    "#Dataset MNIST\n",
    "(x_train, y_train), (x_test, y_test) = keras.datasets.mnist.load_data()\n",
    "\n",
    "#Normalizar\n",
    "x_train, x_test = x_train / 255.0, x_test / 255.0"
   ]
  },
  {
   "cell_type": "code",
   "execution_count": null,
   "metadata": {},
   "outputs": [],
   "source": [
    "# Transformar labels em one-hot encoding\n",
    "y_train = to_categorical(y_train, 10)\n",
    "y_test = to_categorical(y_test, 10)\n",
    "\n",
    "# Parâmetros para grid search\n",
    "param_grid = {\n",
    "    'activation': ['relu', 'sigmoid'],\n",
    "    'neurons': [128, 200, 300, 400, 500],\n",
    "    'hidden_layers': [2, 3, 4, 5]\n",
    "}\n",
    "\n",
    "grid = ParameterGrid(param_grid)\n",
    "\n",
    "best_accuracy = 0\n",
    "best_params = None"
   ]
  },
  {
   "cell_type": "code",
   "execution_count": null,
   "metadata": {},
   "outputs": [],
   "source": [
    "for params in grid:\n",
    "    print(f\"Testando configuração: {params}\")\n",
    "    \n",
    "    # Criar modelo\n",
    "    model = Sequential([Flatten(input_shape=(28, 28))])\n",
    "    for _ in range(params['hidden_layers']):\n",
    "        model.add(Dense(params['neurons'], activation=params['activation']))\n",
    "    model.add(Dense(10, activation='softmax'))\n",
    "    \n",
    "    # Compilar\n",
    "    model.compile(optimizer=Adam(), loss='categorical_crossentropy', metrics=['accuracy'])\n",
    "    \n",
    "    # Treinar\n",
    "    model.fit(x_train, y_train, epochs=5, batch_size=32, verbose=0, validation_data=(x_test, y_test))\n",
    "    \n",
    "    # Avaliar\n",
    "    loss, accuracy = model.evaluate(x_test, y_test, verbose=0)\n",
    "    print(f\"Acurácia: {accuracy:.4f}\")"
   ]
  },
  {
   "cell_type": "code",
   "execution_count": null,
   "metadata": {},
   "outputs": [],
   "source": [
    " # Atualizar melhor resultado\n",
    "if accuracy > best_accuracy:\n",
    "      best_accuracy = accuracy\n",
    "      best_params = params\n",
    "\n",
    "print(\"Melhor configuração encontrada:\", best_params)\n",
    "print(\"Melhor acurácia obtida:\", best_accuracy)\n"
   ]
  }
 ],
 "metadata": {
  "language_info": {
   "name": "python"
  }
 },
 "nbformat": 4,
 "nbformat_minor": 2
}
