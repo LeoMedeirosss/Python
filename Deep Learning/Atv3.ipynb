{
  "nbformat": 4,
  "nbformat_minor": 0,
  "metadata": {
    "colab": {
      "provenance": []
    },
    "kernelspec": {
      "name": "python3",
      "display_name": "Python 3"
    },
    "language_info": {
      "name": "python"
    }
  },
  "cells": [
    {
      "cell_type": "code",
      "source": [
        "import random\n",
        "import matplotlib.pyplot as plt\n",
        "import matplotlib\n",
        "import numpy as np\n",
        "import tensorflow as tf\n",
        "\n",
        "from tensorflow.keras import layers\n",
        "from tensorflow.keras import Sequential\n",
        "from tensorflow.keras.layers import Dense, Dropout\n",
        "from tensorflow.keras.datasets import mnist\n",
        "from tensorflow.keras.datasets import fashion_mnist\n",
        "from tensorflow.keras.utils import to_categorical\n",
        "\n",
        "from matplotlib.ticker import (MultipleLocator, FormatStrFormatter)\n",
        "\n",
        "plt.rcParams[\"axes.titlesize\"] = 16\n",
        "plt.rcParams[\"axes.labelsize\"] = 14\n",
        "plt.rcParams[\"image.cmap\"] = \"gray\""
      ],
      "metadata": {
        "id": "qPqadgAB6HCZ"
      },
      "execution_count": 73,
      "outputs": []
    },
    {
      "cell_type": "code",
      "source": [
        "SEED_VALUE = 42\n",
        "\n",
        "random.seed(SEED_VALUE)\n",
        "np.random.seed(SEED_VALUE)\n",
        "tf.random.set_seed(SEED_VALUE)"
      ],
      "metadata": {
        "id": "_PrCZQc567uX"
      },
      "execution_count": 74,
      "outputs": []
    },
    {
      "cell_type": "code",
      "source": [
        "(X_train_all, y_train_all), (X_test, y_test) = mnist.load_data()\n",
        "\n",
        "X_valid = X_train_all[:10000]\n",
        "X_train = X_train_all[10000:]\n",
        "\n",
        "y_valid = y_train_all[:10000]\n",
        "y_train = y_train_all[10000:]\n",
        "\n",
        "print(X_train.shape)\n",
        "print(X_valid.shape)\n",
        "print(X_test.shape)"
      ],
      "metadata": {
        "colab": {
          "base_uri": "https://localhost:8080/"
        },
        "id": "thGVoXPP7NyS",
        "outputId": "9bd8659f-5e38-4a0e-f3c0-a2ad31556c60"
      },
      "execution_count": 75,
      "outputs": [
        {
          "output_type": "stream",
          "name": "stdout",
          "text": [
            "(50000, 28, 28)\n",
            "(10000, 28, 28)\n",
            "(10000, 28, 28)\n"
          ]
        }
      ]
    },
    {
      "cell_type": "code",
      "source": [
        "plt.figure(figsize=(18,5))\n",
        "for i in range(3):\n",
        "  plt.subplot(1,3,i+1)\n",
        "  plt.axis(True)\n",
        "  plt.imshow(X_train[i], cmap = \"gray\")\n",
        "  plt.subplots_adjust(wspace=0.2, hspace=0.2)"
      ],
      "metadata": {
        "colab": {
          "base_uri": "https://localhost:8080/",
          "height": 401
        },
        "id": "oeSr8_ZL8Yg4",
        "outputId": "3e9e729f-d044-4ec7-d7f1-bf86ec662668"
      },
      "execution_count": 76,
      "outputs": [
        {
          "output_type": "display_data",
          "data": {
            "text/plain": [
              "<Figure size 1800x500 with 3 Axes>"
            ],
            "image/png": "[encoded data removed]"
          },
          "metadata": {}
        }
      ]
    },
    {
      "cell_type": "code",
      "source": [
        "X_train = X_train.reshape((X_train.shape[0], 28 * 28))\n",
        "X_train = X_train.astype(\"float32\") / 255\n",
        "\n",
        "X_test = X_test.reshape((X_test.shape[0], 28 * 28))\n",
        "X_test = X_test.astype(\"float32\") / 255\n",
        "\n",
        "X_valid = X_valid.reshape((X_valid.shape[0], 28 * 28))\n",
        "X_valid = X_valid.astype(\"float32\") / 255"
      ],
      "metadata": {
        "id": "2Txmrm479AMY"
      },
      "execution_count": 77,
      "outputs": []
    },
    {
      "cell_type": "code",
      "source": [
        "((X_train_fashion, y_train_fashion), (_, _)) = fashion_mnist.load_data()\n",
        "print(y_train_fashion[0:9])"
      ],
      "metadata": {
        "colab": {
          "base_uri": "https://localhost:8080/"
        },
        "id": "AzGzcw9t9heg",
        "outputId": "5f638044-a49d-43b1-ffca-0e941d0ba1f2"
      },
      "execution_count": 78,
      "outputs": [
        {
          "output_type": "stream",
          "name": "stdout",
          "text": [
            "[9 0 0 3 0 2 7 2 5]\n"
          ]
        }
      ]
    },
    {
      "cell_type": "code",
      "source": [
        "y_train_onehot = to_categorical(y_train_fashion[0:9])\n",
        "print(y_train_onehot)"
      ],
      "metadata": {
        "colab": {
          "base_uri": "https://localhost:8080/"
        },
        "id": "4z7KnFdH94QZ",
        "outputId": "cfffb6ef-56b4-441e-942e-4138124eeaf4"
      },
      "execution_count": 79,
      "outputs": [
        {
          "output_type": "stream",
          "name": "stdout",
          "text": [
            "[[0. 0. 0. 0. 0. 0. 0. 0. 0. 1.]\n",
            " [1. 0. 0. 0. 0. 0. 0. 0. 0. 0.]\n",
            " [1. 0. 0. 0. 0. 0. 0. 0. 0. 0.]\n",
            " [0. 0. 0. 1. 0. 0. 0. 0. 0. 0.]\n",
            " [1. 0. 0. 0. 0. 0. 0. 0. 0. 0.]\n",
            " [0. 0. 1. 0. 0. 0. 0. 0. 0. 0.]\n",
            " [0. 0. 0. 0. 0. 0. 0. 1. 0. 0.]\n",
            " [0. 0. 1. 0. 0. 0. 0. 0. 0. 0.]\n",
            " [0. 0. 0. 0. 0. 1. 0. 0. 0. 0.]]\n"
          ]
        }
      ]
    },
    {
      "cell_type": "code",
      "source": [
        "y_train = to_categorical(y_train)\n",
        "y_valid = to_categorical(y_valid)\n",
        "y_test = to_categorical(y_test)"
      ],
      "metadata": {
        "id": "ZBnT_wm_-BZx"
      },
      "execution_count": 80,
      "outputs": []
    },
    {
      "cell_type": "code",
      "source": [
        "model = tf.keras.Sequential()\n",
        "\n",
        "model.add(Dense(128, activation=\"relu\", input_shape=(X_train.shape[1],)))\n",
        "model.add(Dense(128, activation=\"relu\"))\n",
        "model.add(Dense(10, activation=\"softmax\"))\n",
        "\n",
        "model.compile(optimizer=\"rmsprop\", loss=\"categorical_crossentropy\", metrics=[\"accuracy\"])"
      ],
      "metadata": {
        "colab": {
          "base_uri": "https://localhost:8080/"
        },
        "id": "GGMsvd5g-LOm",
        "outputId": "02364f93-cbeb-4953-b1da-8e1abcbc2fae"
      },
      "execution_count": 81,
      "outputs": [
        {
          "output_type": "stream",
          "name": "stderr",
          "text": [
            "/usr/local/lib/python3.11/dist-packages/keras/src/layers/core/dense.py:87: UserWarning: Do not pass an `input_shape`/`input_dim` argument to a layer. When using Sequential models, prefer using an `Input(shape)` object as the first layer in the model instead.\n",
            "  super().__init__(activity_regularizer=activity_regularizer, **kwargs)\n"
          ]
        }
      ]
    },
    {
      "cell_type": "code",
      "source": [
        "training_results = model.fit(X_train, y_train,\n",
        "                             epochs=21,\n",
        "                             batch_size=64,\n",
        "                             validation_data=(X_valid, y_valid));"
      ],
      "metadata": {
        "colab": {
          "base_uri": "https://localhost:8080/"
        },
        "id": "0PtzpFNp-1cP",
        "outputId": "0f54efe6-208d-4b76-bc03-0818180f75f6"
      },
      "execution_count": 82,
      "outputs": [
        {
          "output_type": "stream",
          "name": "stdout",
          "text": [
            "Epoch 1/21\n",
            "\u001b[1m782/782\u001b[0m \u001b[32m━━━━━━━━━━━━━━━━━━━━\u001b[0m\u001b[37m\u001b[0m \u001b[1m6s\u001b[0m 6ms/step - accuracy: 0.8643 - loss: 0.4780 - val_accuracy: 0.9450 - val_loss: 0.1755\n",
            "Epoch 2/21\n",
            "\u001b[1m782/782\u001b[0m \u001b[32m━━━━━━━━━━━━━━━━━━━━\u001b[0m\u001b[37m\u001b[0m \u001b[1m5s\u001b[0m 6ms/step - accuracy: 0.9601 - loss: 0.1360 - val_accuracy: 0.9606 - val_loss: 0.1299\n",
            "Epoch 3/21\n",
            "\u001b[1m782/782\u001b[0m \u001b[32m━━━━━━━━━━━━━━━━━━━━\u001b[0m\u001b[37m\u001b[0m \u001b[1m4s\u001b[0m 5ms/step - accuracy: 0.9746 - loss: 0.0894 - val_accuracy: 0.9657 - val_loss: 0.1118\n",
            "Epoch 4/21\n",
            "\u001b[1m782/782\u001b[0m \u001b[32m━━━━━━━━━━━━━━━━━━━━\u001b[0m\u001b[37m\u001b[0m \u001b[1m6s\u001b[0m 7ms/step - accuracy: 0.9818 - loss: 0.0651 - val_accuracy: 0.9684 - val_loss: 0.1100\n",
            "Epoch 5/21\n",
            "\u001b[1m782/782\u001b[0m \u001b[32m━━━━━━━━━━━━━━━━━━━━\u001b[0m\u001b[37m\u001b[0m \u001b[1m9s\u001b[0m 5ms/step - accuracy: 0.9866 - loss: 0.0491 - val_accuracy: 0.9713 - val_loss: 0.1102\n",
            "Epoch 6/21\n",
            "\u001b[1m782/782\u001b[0m \u001b[32m━━━━━━━━━━━━━━━━━━━━\u001b[0m\u001b[37m\u001b[0m \u001b[1m7s\u001b[0m 7ms/step - accuracy: 0.9899 - loss: 0.0377 - val_accuracy: 0.9719 - val_loss: 0.1151\n",
            "Epoch 7/21\n",
            "\u001b[1m782/782\u001b[0m \u001b[32m━━━━━━━━━━━━━━━━━━━━\u001b[0m\u001b[37m\u001b[0m \u001b[1m4s\u001b[0m 5ms/step - accuracy: 0.9927 - loss: 0.0293 - val_accuracy: 0.9714 - val_loss: 0.1276\n",
            "Epoch 8/21\n",
            "\u001b[1m782/782\u001b[0m \u001b[32m━━━━━━━━━━━━━━━━━━━━\u001b[0m\u001b[37m\u001b[0m \u001b[1m4s\u001b[0m 6ms/step - accuracy: 0.9937 - loss: 0.0232 - val_accuracy: 0.9702 - val_loss: 0.1319\n",
            "Epoch 9/21\n",
            "\u001b[1m782/782\u001b[0m \u001b[32m━━━━━━━━━━━━━━━━━━━━\u001b[0m\u001b[37m\u001b[0m \u001b[1m5s\u001b[0m 7ms/step - accuracy: 0.9946 - loss: 0.0195 - val_accuracy: 0.9741 - val_loss: 0.1298\n",
            "Epoch 10/21\n",
            "\u001b[1m782/782\u001b[0m \u001b[32m━━━━━━━━━━━━━━━━━━━━\u001b[0m\u001b[37m\u001b[0m \u001b[1m11s\u001b[0m 8ms/step - accuracy: 0.9954 - loss: 0.0150 - val_accuracy: 0.9715 - val_loss: 0.1569\n",
            "Epoch 11/21\n",
            "\u001b[1m782/782\u001b[0m \u001b[32m━━━━━━━━━━━━━━━━━━━━\u001b[0m\u001b[37m\u001b[0m \u001b[1m8s\u001b[0m 5ms/step - accuracy: 0.9955 - loss: 0.0134 - val_accuracy: 0.9707 - val_loss: 0.1605\n",
            "Epoch 12/21\n",
            "\u001b[1m782/782\u001b[0m \u001b[32m━━━━━━━━━━━━━━━━━━━━\u001b[0m\u001b[37m\u001b[0m \u001b[1m6s\u001b[0m 6ms/step - accuracy: 0.9970 - loss: 0.0097 - val_accuracy: 0.9724 - val_loss: 0.1672\n",
            "Epoch 13/21\n",
            "\u001b[1m782/782\u001b[0m \u001b[32m━━━━━━━━━━━━━━━━━━━━\u001b[0m\u001b[37m\u001b[0m \u001b[1m4s\u001b[0m 5ms/step - accuracy: 0.9971 - loss: 0.0095 - val_accuracy: 0.9730 - val_loss: 0.1545\n",
            "Epoch 14/21\n",
            "\u001b[1m782/782\u001b[0m \u001b[32m━━━━━━━━━━━━━━━━━━━━\u001b[0m\u001b[37m\u001b[0m \u001b[1m4s\u001b[0m 5ms/step - accuracy: 0.9970 - loss: 0.0086 - val_accuracy: 0.9662 - val_loss: 0.2007\n",
            "Epoch 15/21\n",
            "\u001b[1m782/782\u001b[0m \u001b[32m━━━━━━━━━━━━━━━━━━━━\u001b[0m\u001b[37m\u001b[0m \u001b[1m6s\u001b[0m 6ms/step - accuracy: 0.9977 - loss: 0.0069 - val_accuracy: 0.9751 - val_loss: 0.1524\n",
            "Epoch 16/21\n",
            "\u001b[1m782/782\u001b[0m \u001b[32m━━━━━━━━━━━━━━━━━━━━\u001b[0m\u001b[37m\u001b[0m \u001b[1m4s\u001b[0m 6ms/step - accuracy: 0.9973 - loss: 0.0069 - val_accuracy: 0.9712 - val_loss: 0.1888\n",
            "Epoch 17/21\n",
            "\u001b[1m782/782\u001b[0m \u001b[32m━━━━━━━━━━━━━━━━━━━━\u001b[0m\u001b[37m\u001b[0m \u001b[1m4s\u001b[0m 5ms/step - accuracy: 0.9982 - loss: 0.0051 - val_accuracy: 0.9747 - val_loss: 0.1711\n",
            "Epoch 18/21\n",
            "\u001b[1m782/782\u001b[0m \u001b[32m━━━━━━━━━━━━━━━━━━━━\u001b[0m\u001b[37m\u001b[0m \u001b[1m5s\u001b[0m 6ms/step - accuracy: 0.9987 - loss: 0.0040 - val_accuracy: 0.9750 - val_loss: 0.1744\n",
            "Epoch 19/21\n",
            "\u001b[1m782/782\u001b[0m \u001b[32m━━━━━━━━━━━━━━━━━━━━\u001b[0m\u001b[37m\u001b[0m \u001b[1m5s\u001b[0m 6ms/step - accuracy: 0.9986 - loss: 0.0036 - val_accuracy: 0.9749 - val_loss: 0.1839\n",
            "Epoch 20/21\n",
            "\u001b[1m782/782\u001b[0m \u001b[32m━━━━━━━━━━━━━━━━━━━━\u001b[0m\u001b[37m\u001b[0m \u001b[1m5s\u001b[0m 5ms/step - accuracy: 0.9984 - loss: 0.0045 - val_accuracy: 0.9758 - val_loss: 0.1910\n",
            "Epoch 21/21\n",
            "\u001b[1m782/782\u001b[0m \u001b[32m━━━━━━━━━━━━━━━━━━━━\u001b[0m\u001b[37m\u001b[0m \u001b[1m7s\u001b[0m 7ms/step - accuracy: 0.9987 - loss: 0.0036 - val_accuracy: 0.9718 - val_loss: 0.2215\n"
          ]
        }
      ]
    },
    {
      "cell_type": "code",
      "source": [
        "train_loss = training_results.history[\"loss\"]\n",
        "train_acc = training_results.history[\"accuracy\"]\n",
        "train_loss = training_results.history[\"val_loss\"]\n",
        "train_acc = training_results.history[\"val_accuracy\"]\n",
        "\n",
        "plot_results([train_loss, valid_loss],\n",
        "              ylabel=\"Loss\",\n",
        "              ylim = [0.0,0.5],\n",
        "              metric_name=[\"Training Loss\", \"Valitadion Loss\"],\n",
        "              color = [\"g\", \"b\"]\n",
        "             )\n",
        "plot_results([train_acc, valid_acc],\n",
        "              ylabel=\"Accturacy\",\n",
        "              ylim = [0.9,1.0],\n",
        "              metric_name=[\"Training Accuracy\", \"Valitadion Accuracy\"],\n",
        "              color = [\"g\", \"b\"]\n",
        "             )"
      ],
      "metadata": {
        "colab": {
          "base_uri": "https://localhost:8080/",
          "height": 211
        },
        "id": "qXw_K1QhBS7c",
        "outputId": "11d256b2-e6ad-4719-9eb7-cb01d5ef6708"
      },
      "execution_count": 86,
      "outputs": [
        {
          "output_type": "error",
          "ename": "NameError",
          "evalue": "name 'plt_results' is not defined",
          "traceback": [
            "\u001b[0;31m---------------------------------------------------------------------------\u001b[0m",
            "\u001b[0;31mNameError\u001b[0m                                 Traceback (most recent call last)",
            "\u001b[0;32m<ipython-input-86-472c1c2e9da0>\u001b[0m in \u001b[0;36m<cell line: 0>\u001b[0;34m()\u001b[0m\n\u001b[1;32m      4\u001b[0m \u001b[0mtrain_acc\u001b[0m \u001b[0;34m=\u001b[0m \u001b[0mtraining_results\u001b[0m\u001b[0;34m.\u001b[0m\u001b[0mhistory\u001b[0m\u001b[0;34m[\u001b[0m\u001b[0;34m\"val_accuracy\"\u001b[0m\u001b[0;34m]\u001b[0m\u001b[0;34m\u001b[0m\u001b[0;34m\u001b[0m\u001b[0m\n\u001b[1;32m      5\u001b[0m \u001b[0;34m\u001b[0m\u001b[0m\n\u001b[0;32m----> 6\u001b[0;31m plt_results([train_loss, valid_loss],\n\u001b[0m\u001b[1;32m      7\u001b[0m               \u001b[0mylabel\u001b[0m\u001b[0;34m=\u001b[0m\u001b[0;34m\"Loss\"\u001b[0m\u001b[0;34m,\u001b[0m\u001b[0;34m\u001b[0m\u001b[0;34m\u001b[0m\u001b[0m\n\u001b[1;32m      8\u001b[0m               \u001b[0mylim\u001b[0m \u001b[0;34m=\u001b[0m \u001b[0;34m[\u001b[0m\u001b[0;36m0.0\u001b[0m\u001b[0;34m,\u001b[0m\u001b[0;36m0.5\u001b[0m\u001b[0;34m]\u001b[0m\u001b[0;34m,\u001b[0m\u001b[0;34m\u001b[0m\u001b[0;34m\u001b[0m\u001b[0m\n",
            "\u001b[0;31mNameError\u001b[0m: name 'plt_results' is not defined"
          ]
        }
      ]
    },
    {
      "cell_type": "code",
      "source": [
        "predictions = model.predict(X_test)\n",
        "index = 0\n",
        "print(y_test[index])\n",
        "\n",
        "for i in range(10):\n",
        "  print(\"digit:\",i , predictions[index][i])"
      ],
      "metadata": {
        "id": "Kinb6Cc9OsIT"
      },
      "execution_count": null,
      "outputs": []
    },
    {
      "cell_type": "code",
      "source": [
        "predictions = model.predict(X_test)\n",
        "\n",
        "predicted_labels = [np,argmax(i) for i in predictions]\n",
        "\n",
        "y_test_interget_labels = tf.argmax(y_test, axis=1)\n",
        "\n",
        "cm = tf.math.confusion_matrix(labels=y_test_interget_labels, predictions=predicted_labels)\n",
        "\n",
        "plt.figure(figsize= [15,8])\n",
        "import seaborn as sn\n",
        "sn.heatmap(cm,annot=True, fmt=\"d\", annot_kws={\"size\" : 14})\n",
        "plt.xlabel(\"predicted\")\n",
        "plt.ylabel(\"truth\")\n",
        "plt.show()"
      ],
      "metadata": {
        "id": "QfXRt1cfPJ1u"
      },
      "execution_count": null,
      "outputs": []
    },
    {
      "cell_type": "code",
      "source": [
        "from tensorflow.keras.models import Sequential\n",
        "from tensorflow.keras.layers import Dense\n",
        "from tensorflow.keras.optimizers import RMSprop\n",
        "\n",
        "def create_model(activation_function='relu', num_neurons=128, num_layers=2):\n",
        "    model = Sequential()\n",
        "    model.add(Dense(num_neurons, activation=activation_function, input_shape=(X_train.shape[1],)))\n",
        "\n",
        "    for _ in range(num_layers - 1):\n",
        "        model.add(Dense(num_neurons, activation=activation_function))\n",
        "\n",
        "    model.add(Dense(10, activation=\"softmax\"))\n",
        "\n",
        "    model.compile(optimizer=RMSprop(), loss=\"categorical_crossentropy\", metrics=[\"accuracy\"])\n",
        "    return model\n"
      ],
      "metadata": {
        "id": "MHst5LrBRNYv"
      },
      "execution_count": null,
      "outputs": []
    },
    {
      "cell_type": "code",
      "source": [
        "from sklearn.model_selection import train_test_split\n",
        "import time\n",
        "\n",
        "activation_functions = ['relu', 'sigmoid']\n",
        "num_neurons_options = [128, 200, 300, 400, 500]\n",
        "num_layers_options = [2, 3, 4, 5]\n",
        "\n",
        "best_model = None\n",
        "best_score = 0\n",
        "best_params = {}\n",
        "\n",
        "for activation_function in activation_functions:\n",
        "    for num_neurons in num_neurons_options:\n",
        "        for num_layers in num_layers_options:\n",
        "            print(f\"Testing with activation={activation_function}, neurons={num_neurons}, layers={num_layers}\")\n",
        "\n",
        "            model = create_model(activation_function, num_neurons, num_layers)\n",
        "\n",
        "            start_time = time.time()\n",
        "            training_results = model.fit(X_train, y_train,\n",
        "                                         epochs=5,\n",
        "                                         batch_size=64,\n",
        "                                         validation_data=(X_valid, y_valid),\n",
        "                                         verbose=0)\n",
        "            training_time = time.time() - start_time\n",
        "\n",
        "            val_accuracy = training_results.history[\"val_accuracy\"][-1]\n",
        "            print(f\"Validation Accuracy: {val_accuracy:.4f}\")\n",
        "\n",
        "            if val_accuracy > best_score:\n",
        "                best_score = val_accuracy\n",
        "                best_model = model\n",
        "                best_params = {\n",
        "                    'activation_function': activation_function,\n",
        "                    'num_neurons': num_neurons,\n",
        "                    'num_layers': num_layers\n",
        "                }\n",
        "\n",
        "            print(f\"Training Time: {training_time:.2f} seconds\\n\")\n",
        "\n",
        "print(\"Best Model Parameters:\")\n",
        "print(f\"Activation Function: {best_params['activation_function']}\")\n",
        "print(f\"Number of Neurons: {best_params['num_neurons']}\")\n",
        "print(f\"Number of Layers: {best_params['num_layers']}\")\n",
        "\n",
        "test_loss, test_accuracy = best_model.evaluate(X_test, y_test)\n",
        "print(f\"Test Accuracy: {test_accuracy:.4f}\")\n"
      ],
      "metadata": {
        "id": "Jvh0COKXROdC"
      },
      "execution_count": null,
      "outputs": []
    }
  ]
}