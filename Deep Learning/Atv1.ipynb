{
 "cells": [
  {
   "cell_type": "markdown",
   "metadata": {},
   "source": [
    "Imports"
   ]
  },
  {
   "cell_type": "code",
   "execution_count": 5,
   "metadata": {},
   "outputs": [],
   "source": [
    "import numpy as np\n",
    "import matplotlib.pyplot as plt\n",
    "from sklearn.model_selection import train_test_split\n",
    "from sklearn.preprocessing import StandardScaler\n",
    "from sklearn.neural_network import MLPClassifier\n",
    "from sklearn.metrics import accuracy_score\n",
    "from sklearn.datasets import make_classification\n"
   ]
  },
  {
   "cell_type": "markdown",
   "metadata": {},
   "source": [
    "Dataset Creation / Normalizing"
   ]
  },
  {
   "cell_type": "code",
   "execution_count": 6,
   "metadata": {},
   "outputs": [],
   "source": [
    "#Binary dataset\n",
    "X, y = make_classification(n_samples=1000, n_features=5, n_classes=2, random_state=42)\n",
    "\n",
    "# Splitting into training and testing (80% training, 20% testing)\n",
    "X_train, X_test, y_train, y_test = train_test_split(X, y, test_size=0.2, random_state=42)\n",
    "\n",
    "# Normalizing\n",
    "scaler = StandardScaler()\n",
    "X_train = scaler.fit_transform(X_train)\n",
    "X_test = scaler.transform(X_test)"
   ]
  },
  {
   "cell_type": "markdown",
   "metadata": {},
   "source": [
    "Training"
   ]
  },
  {
   "cell_type": "code",
   "execution_count": 7,
   "metadata": {},
   "outputs": [
    {
     "name": "stdout",
     "output_type": "stream",
     "text": [
      "Accuracy of the standard model: 0.8850\n"
     ]
    },
    {
     "name": "stderr",
     "output_type": "stream",
     "text": [
      "C:\\Users\\leozi\\AppData\\Local\\Packages\\PythonSoftwareFoundation.Python.3.11_qbz5n2kfra8p0\\LocalCache\\local-packages\\Python311\\site-packages\\sklearn\\neural_network\\_multilayer_perceptron.py:691: ConvergenceWarning: Stochastic Optimizer: Maximum iterations (200) reached and the optimization hasn't converged yet.\n",
      "  warnings.warn(\n"
     ]
    }
   ],
   "source": [
    "# Standard model with default parameters\n",
    "mlp_default = MLPClassifier(random_state=42)\n",
    "mlp_default.fit(X_train, y_train)\n",
    "\n",
    "# Predictions and accuracy\n",
    "y_pred_default = mlp_default.predict(X_test)\n",
    "acc_default = accuracy_score(y_test, y_pred_default)\n",
    "print(f\"Accuracy of the standard model: {acc_default:.4f}\")"
   ]
  },
  {
   "cell_type": "code",
   "execution_count": 8,
   "metadata": {},
   "outputs": [
    {
     "name": "stderr",
     "output_type": "stream",
     "text": [
      "C:\\Users\\leozi\\AppData\\Local\\Packages\\PythonSoftwareFoundation.Python.3.11_qbz5n2kfra8p0\\LocalCache\\local-packages\\Python311\\site-packages\\sklearn\\neural_network\\_multilayer_perceptron.py:691: ConvergenceWarning: Stochastic Optimizer: Maximum iterations (200) reached and the optimization hasn't converged yet.\n",
      "  warnings.warn(\n"
     ]
    },
    {
     "name": "stdout",
     "output_type": "stream",
     "text": [
      "Acurácia (ReLU): 0.8850\n"
     ]
    },
    {
     "name": "stderr",
     "output_type": "stream",
     "text": [
      "C:\\Users\\leozi\\AppData\\Local\\Packages\\PythonSoftwareFoundation.Python.3.11_qbz5n2kfra8p0\\LocalCache\\local-packages\\Python311\\site-packages\\sklearn\\neural_network\\_multilayer_perceptron.py:691: ConvergenceWarning: Stochastic Optimizer: Maximum iterations (200) reached and the optimization hasn't converged yet.\n",
      "  warnings.warn(\n"
     ]
    },
    {
     "name": "stdout",
     "output_type": "stream",
     "text": [
      "Acurácia (2 camadas de 50 neurônios): 0.9450\n"
     ]
    },
    {
     "name": "stderr",
     "output_type": "stream",
     "text": [
      "C:\\Users\\leozi\\AppData\\Local\\Packages\\PythonSoftwareFoundation.Python.3.11_qbz5n2kfra8p0\\LocalCache\\local-packages\\Python311\\site-packages\\sklearn\\neural_network\\_multilayer_perceptron.py:691: ConvergenceWarning: Stochastic Optimizer: Maximum iterations (200) reached and the optimization hasn't converged yet.\n",
      "  warnings.warn(\n"
     ]
    },
    {
     "name": "stdout",
     "output_type": "stream",
     "text": [
      "Acurácia (100 neurônios): 0.8850\n"
     ]
    },
    {
     "name": "stderr",
     "output_type": "stream",
     "text": [
      "C:\\Users\\leozi\\AppData\\Local\\Packages\\PythonSoftwareFoundation.Python.3.11_qbz5n2kfra8p0\\LocalCache\\local-packages\\Python311\\site-packages\\sklearn\\neural_network\\_multilayer_perceptron.py:691: ConvergenceWarning: Stochastic Optimizer: Maximum iterations (200) reached and the optimization hasn't converged yet.\n",
      "  warnings.warn(\n"
     ]
    },
    {
     "name": "stdout",
     "output_type": "stream",
     "text": [
      "Acurácia (learning rate = 0.01): 0.9100\n",
      "Acurácia (batch size = 64): 0.9300\n"
     ]
    },
    {
     "name": "stderr",
     "output_type": "stream",
     "text": [
      "C:\\Users\\leozi\\AppData\\Local\\Packages\\PythonSoftwareFoundation.Python.3.11_qbz5n2kfra8p0\\LocalCache\\local-packages\\Python311\\site-packages\\sklearn\\neural_network\\_multilayer_perceptron.py:691: ConvergenceWarning: Stochastic Optimizer: Maximum iterations (200) reached and the optimization hasn't converged yet.\n",
      "  warnings.warn(\n"
     ]
    }
   ],
   "source": [
    "# Função de Ativação\n",
    "mlp_relu = MLPClassifier(activation='relu', random_state=42)\n",
    "mlp_relu.fit(X_train, y_train)\n",
    "acc_relu = accuracy_score(y_test, mlp_relu.predict(X_test))\n",
    "print(f\"Acurácia (ReLU): {acc_relu:.4f}\")\n",
    "\n",
    "# Número de Camadas Escondidas\n",
    "mlp_hidden_layers = MLPClassifier(hidden_layer_sizes=(50, 50), random_state=42)\n",
    "mlp_hidden_layers.fit(X_train, y_train)\n",
    "acc_hidden_layers = accuracy_score(y_test, mlp_hidden_layers.predict(X_test))\n",
    "print(f\"Acurácia (2 camadas de 50 neurônios): {acc_hidden_layers:.4f}\")\n",
    "\n",
    "# Número de Neurônios por Camada\n",
    "mlp_neurons = MLPClassifier(hidden_layer_sizes=(100,), random_state=42)\n",
    "mlp_neurons.fit(X_train, y_train)\n",
    "acc_neurons = accuracy_score(y_test, mlp_neurons.predict(X_test))\n",
    "print(f\"Acurácia (100 neurônios): {acc_neurons:.4f}\")\n",
    "\n",
    "# Taxa de Aprendizado\n",
    "mlp_lr = MLPClassifier(learning_rate_init=0.01, random_state=42)\n",
    "mlp_lr.fit(X_train, y_train)\n",
    "acc_lr = accuracy_score(y_test, mlp_lr.predict(X_test))\n",
    "print(f\"Acurácia (learning rate = 0.01): {acc_lr:.4f}\")\n",
    "\n",
    "# Tamanho do Batch\n",
    "mlp_batch = MLPClassifier(batch_size=64, random_state=42)\n",
    "mlp_batch.fit(X_train, y_train)\n",
    "acc_batch = accuracy_score(y_test, mlp_batch.predict(X_test))\n",
    "print(f\"Acurácia (batch size = 64): {acc_batch:.4f}\")\n",
    "\n"
   ]
  },
  {
   "cell_type": "code",
   "execution_count": 9,
   "metadata": {},
   "outputs": [
    {
     "name": "stdout",
     "output_type": "stream",
     "text": [
      "\n",
      "Melhor modelo: Camadas escondidas (50,50) com acurácia de 0.9450\n"
     ]
    }
   ],
   "source": [
    "# Results\n",
    "resultados = {\n",
    "    \"Default\": acc_default,\n",
    "    \"ReLU\": acc_relu,\n",
    "    \"Camadas escondidas (50,50)\": acc_hidden_layers,\n",
    "    \"100 neurônios\": acc_neurons,\n",
    "    \"Learning rate 0.01\": acc_lr,\n",
    "    \"Batch size 64\": acc_batch\n",
    "}\n",
    "\n",
    "melhor_modelo = max(resultados, key=resultados.get)\n",
    "print(f\"\\nMelhor modelo: {melhor_modelo} com acurácia de {resultados[melhor_modelo]:.4f}\")\n"
   ]
  },
  {
   "cell_type": "markdown",
   "metadata": {},
   "source": [
    "Explicação: \n",
    "\n",
    "1. Maior Capacidade de Representação\n",
    "Adicionar mais camadas ocultas permite que a rede aprenda representações mais complexas dos dados. Com apenas uma camada, a rede pode capturar relações lineares entre as features, mas, ao adicionar mais camadas, ela consegue identificar padrões não lineares e interações entre as variáveis.\n",
    "\n",
    "2. Melhor Extração de Características\n",
    "Cada camada adicional pode atuar como um \"extrator de características\", refinando e combinando os dados de maneiras que ajudam na tomada de decisão. Isso é especialmente útil em problemas mais complexos, onde uma única camada pode não ser suficiente para capturar todas as nuances dos dados.\n",
    "\n",
    "3. Evita Underfitting\n",
    "Redes muito simples podem sofrer de underfitting, onde o modelo não consegue capturar bem a estrutura dos dados. Ao adicionar camadas, a rede se torna mais flexível e pode aprender padrões mais detalhados, melhorando sua performance.\n",
    "\n",
    "Conclusão: O modelo com duas camadas ocultas (50,50 neurônios) obteve o melhor resultado porque aumentou a capacidade de aprendizado sem supercomplicar a rede. Isso possibilitou uma melhor generalização sem sofrer de overfitting ou dificuldades na convergência."
   ]
  }
 ],
 "metadata": {
  "kernelspec": {
   "display_name": "Python 3",
   "language": "python",
   "name": "python3"
  },
  "language_info": {
   "codemirror_mode": {
    "name": "ipython",
    "version": 3
   },
   "file_extension": ".py",
   "mimetype": "text/x-python",
   "name": "python",
   "nbconvert_exporter": "python",
   "pygments_lexer": "ipython3",
   "version": "3.11.9"
  }
 },
 "nbformat": 4,
 "nbformat_minor": 2
}
