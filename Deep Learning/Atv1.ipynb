{
 "cells": [
  {
   "cell_type": "markdown",
   "metadata": {},
   "source": [
    "Imports"
   ]
  },
  {
   "cell_type": "code",
   "execution_count": 1,
   "metadata": {},
   "outputs": [],
   "source": [
    "import numpy as np\n",
    "import matplotlib.pyplot as plt\n",
    "from sklearn.model_selection import train_test_split\n",
    "from sklearn.preprocessing import StandardScaler\n",
    "from sklearn.neural_network import MLPClassifier\n",
    "from sklearn.metrics import accuracy_score\n",
    "from sklearn.datasets import make_classification\n"
   ]
  },
  {
   "cell_type": "markdown",
   "metadata": {},
   "source": [
    "Dataset Creation / Normalizing"
   ]
  },
  {
   "cell_type": "code",
   "execution_count": 2,
   "metadata": {},
   "outputs": [],
   "source": [
    "#Binary dataset\n",
    "X, y = make_classification(n_samples=1000, n_features=5, n_classes=2, random_state=42)\n",
    "\n",
    "# Splitting into training and testing (80% training, 20% testing)\n",
    "X_train, X_test, y_train, y_test = train_test_split(X, y, test_size=0.2, random_state=42)\n",
    "\n",
    "# Normalizing\n",
    "scaler = StandardScaler()\n",
    "X_train = scaler.fit_transform(X_train)\n",
    "X_test = scaler.transform(X_test)"
   ]
  },
  {
   "cell_type": "markdown",
   "metadata": {},
   "source": [
    "Training"
   ]
  },
  {
   "cell_type": "code",
   "execution_count": null,
   "metadata": {},
   "outputs": [
    {
     "name": "stdout",
     "output_type": "stream",
     "text": [
      "Acurácia do modelo padrão: 0.9700\n"
     ]
    },
    {
     "name": "stderr",
     "output_type": "stream",
     "text": [
      "C:\\Users\\leozi\\AppData\\Local\\Packages\\PythonSoftwareFoundation.Python.3.11_qbz5n2kfra8p0\\LocalCache\\local-packages\\Python311\\site-packages\\sklearn\\neural_network\\_multilayer_perceptron.py:691: ConvergenceWarning: Stochastic Optimizer: Maximum iterations (500) reached and the optimization hasn't converged yet.\n",
      "  warnings.warn(\n"
     ]
    }
   ],
   "source": [
    "# Standard model with default parameters\n",
    "mlp_default = MLPClassifier(random_state=42)\n",
    "mlp_default.fit(X_train, y_train)\n",
    "\n",
    "# Predictions and accuracy\n",
    "y_pred_default = mlp_default.predict(X_test)\n",
    "acc_default = accuracy_score(y_test, y_pred_default)\n",
    "print(f\"Accuracy of the standard model: {acc_default:.4f}\")"
   ]
  },
  {
   "cell_type": "code",
   "execution_count": 6,
   "metadata": {},
   "outputs": [
    {
     "name": "stdout",
     "output_type": "stream",
     "text": [
      "Modelo 1 - Acurácia: 0.9250 - Parâmetros: {'hidden_layer_sizes': (50,), 'activation': 'logistic'}\n"
     ]
    },
    {
     "name": "stderr",
     "output_type": "stream",
     "text": [
      "C:\\Users\\leozi\\AppData\\Local\\Packages\\PythonSoftwareFoundation.Python.3.11_qbz5n2kfra8p0\\LocalCache\\local-packages\\Python311\\site-packages\\sklearn\\neural_network\\_multilayer_perceptron.py:691: ConvergenceWarning: Stochastic Optimizer: Maximum iterations (500) reached and the optimization hasn't converged yet.\n",
      "  warnings.warn(\n"
     ]
    },
    {
     "name": "stdout",
     "output_type": "stream",
     "text": [
      "Modelo 2 - Acurácia: 0.9650 - Parâmetros: {'hidden_layer_sizes': (100, 50), 'activation': 'relu'}\n",
      "Modelo 3 - Acurácia: 0.9650 - Parâmetros: {'hidden_layer_sizes': (50, 50, 50), 'activation': 'tanh', 'learning_rate_init': 0.01}\n",
      "Modelo 4 - Acurácia: 0.9700 - Parâmetros: {'hidden_layer_sizes': (200,), 'activation': 'relu', 'batch_size': 32}\n",
      "Modelo 5 - Acurácia: 0.9750 - Parâmetros: {'hidden_layer_sizes': (100, 100), 'activation': 'relu', 'learning_rate_init': 0.005}\n",
      "Melhor modelo: {'hidden_layer_sizes': (100, 100), 'activation': 'relu', 'learning_rate_init': 0.005} com acurácia de 0.9750\n"
     ]
    }
   ],
   "source": [
    "# Testar diferentes configurações do MLP\n",
    "configs = [\n",
    "    {'hidden_layer_sizes': (50,), 'activation': 'logistic'},\n",
    "    {'hidden_layer_sizes': (100, 50), 'activation': 'relu'},\n",
    "    {'hidden_layer_sizes': (50, 50, 50), 'activation': 'tanh', 'learning_rate_init': 0.01},\n",
    "    {'hidden_layer_sizes': (200,), 'activation': 'relu', 'batch_size': 32},\n",
    "    {'hidden_layer_sizes': (100, 100), 'activation': 'relu', 'learning_rate_init': 0.005}\n",
    "]\n",
    "\n",
    "best_model = None\n",
    "best_accuracy = 0\n",
    "\n",
    "for i, params in enumerate(configs):\n",
    "    mlp = MLPClassifier(random_state=42, max_iter=500, **params)\n",
    "    mlp.fit(X_train, y_train)\n",
    "    y_pred = mlp.predict(X_test)\n",
    "    acc = accuracy_score(y_test, y_pred)\n",
    "    print(f'Modelo {i+1} - Acurácia: {acc:.4f} - Parâmetros: {params}')\n",
    "    \n",
    "    if acc > best_accuracy:\n",
    "        best_accuracy = acc\n",
    "        best_model = params\n",
    "\n",
    "print(f'Melhor modelo: {best_model} com acurácia de {best_accuracy:.4f}')\n"
   ]
  }
 ],
 "metadata": {
  "kernelspec": {
   "display_name": "Python 3",
   "language": "python",
   "name": "python3"
  },
  "language_info": {
   "codemirror_mode": {
    "name": "ipython",
    "version": 3
   },
   "file_extension": ".py",
   "mimetype": "text/x-python",
   "name": "python",
   "nbconvert_exporter": "python",
   "pygments_lexer": "ipython3",
   "version": "3.11.9"
  }
 },
 "nbformat": 4,
 "nbformat_minor": 2
}
